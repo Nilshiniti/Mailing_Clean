{
 "cells": [
  {
   "cell_type": "code",
   "execution_count": null,
   "metadata": {},
   "outputs": [],
   "source": [
    "import pandas as pd \n",
    "#import openpyxl as pp\n",
    "PTV = pd.read_excel(\"exportação painel - entrada leads.xlsx\")#importar arquivo PTV\n",
    "Busca = pd.read_excel(\"atendidos meetime.xlsx\")#importar arquivo meetime\n"
   ]
  },
  {
   "cell_type": "code",
   "execution_count": null,
   "metadata": {},
   "outputs": [],
   "source": [
    "for i in [\".\",\"-\",\"/\"]:\n",
    "    Busca[\"CNPJ\"] = Busca[\"CNPJ\"].str.replace(i, \"\") #Cria um loop para substibuir na coluna CNPJ o .,- e / para vazio\n",
    "\n",
    "    \"\"\"\n",
    "    Busca[\"CNPJ\"] = Busca[\"CNPJ\"].str.replace('.', '')\n",
    "    Busca[\"CNPJ\"] = Busca[\"CNPJ\"].str.replace('-', '')\n",
    "    Busca[\"CNPJ\"] = Busca[\"CNPJ\"].str.replace('/', '')\n",
    "    \"\"\"\n",
    "PTV[\"CNPJ\"] =  PTV[\"CNPJ\"].map(str) # mapeia a coluna para string\n",
    "PTV[\"CNPJ\"] =  PTV[\"CNPJ\"].str.replace(\".0\", \"\")#utiliza o metodo replace para substituir .0 para vazio\n",
    "PTV[\"CNPJ\"]"
   ]
  },
  {
   "cell_type": "code",
   "execution_count": null,
   "metadata": {},
   "outputs": [],
   "source": []
  },
  {
   "cell_type": "code",
   "execution_count": 19,
   "metadata": {},
   "outputs": [],
   "source": [
    "Resultado = pd.merge(PTV, Busca, on=\"Email\", indicator=True, how=\"outer\")\n",
    "\"\"\"\n",
    "faz uma merge, utilizando a coluna Email como base, indicartor=True para indicar de onde cada dado vem e how=\"outer\" para mostrar todos\n",
    "aqui tb é criado uma coluna chamado _merge, como ela podemos fazer futuros filtros de dados com base na planilha original\n",
    "\n",
    "\n",
    "\"\"\"\n",
    "\n",
    "\n",
    "Resultado.to_excel(\"Resultado_busca.xlsx\")\n",
    "\n",
    "Busca_Refinada = Resultado[[\"Protocolo\", \"CNPJ_x\", \"CNPJ_y\", \"Mensagem\", \"Nome_x\", \"Email\", \"Celular\", \"_merge\"]]\n",
    "#criei um novo dataframe somente com as colunas  \"Protocolo\", \"CNPJ_x\", \"CNPJ_y\", \"Mensagem\", \"Nome_x\", \"Email\", \"Celular\", \"_merge\"\n",
    "\n",
    "Busca_Refinada.to_excel(\"Busca_Refinada.xlsx\")\n"
   ]
  }
 ],
 "metadata": {
  "kernelspec": {
   "display_name": "Python 3",
   "language": "python",
   "name": "python3"
  },
  "language_info": {
   "codemirror_mode": {
    "name": "ipython",
    "version": 3
   },
   "file_extension": ".py",
   "mimetype": "text/x-python",
   "name": "python",
   "nbconvert_exporter": "python",
   "pygments_lexer": "ipython3",
   "version": "3.10.3"
  },
  "orig_nbformat": 4
 },
 "nbformat": 4,
 "nbformat_minor": 2
}
